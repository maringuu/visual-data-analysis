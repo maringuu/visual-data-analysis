{
 "cells": [
  {
   "cell_type": "markdown",
   "id": "92a0836e",
   "metadata": {},
   "source": [
    "# Sheet 03"
   ]
  },
  {
   "cell_type": "markdown",
   "id": "f462c2fc",
   "metadata": {},
   "source": [
    "## Preamble"
   ]
  },
  {
   "cell_type": "markdown",
   "id": "3f7c6c28",
   "metadata": {},
   "source": [
    "Autors: Marten Ringwelski, Nico Ostermann, Simon Liessem"
   ]
  },
  {
   "cell_type": "markdown",
   "id": "a1bbbd45",
   "metadata": {},
   "source": [
    "Note that this notebook MUST be executed in order to get everything to work.\n",
    "The tasks can't be run individually. "
   ]
  },
  {
   "cell_type": "markdown",
   "id": "1ab973fc",
   "metadata": {},
   "source": [
    "Also eCampus does not allow for uploading nested directory structures which makes it hard to properly organize the files. The files are expected to be in the `data` directory which itself is placed next to this notebook.\n",
    "\n",
    "If you extract the zip file we handed in everything should work just fine."
   ]
  },
  {
   "cell_type": "markdown",
   "id": "5b476f10",
   "metadata": {},
   "source": [
    "Autoformatting if `jupyter-black` is installed."
   ]
  },
  {
   "cell_type": "code",
   "execution_count": null,
   "id": "c6501019",
   "metadata": {},
   "outputs": [],
   "source": [
    "try:\n",
    "    import black\n",
    "    import jupyter_black\n",
    "\n",
    "    jupyter_black.load(\n",
    "        lab=False,\n",
    "        line_length=79,\n",
    "        verbosity=\"DEBUG\",\n",
    "        target_version=black.TargetVersion.PY310,\n",
    "    )\n",
    "except ImportError:\n",
    "    pass"
   ]
  },
  {
   "cell_type": "markdown",
   "id": "3dc11336",
   "metadata": {},
   "source": [
    "Import all we weed and more."
   ]
  },
  {
   "cell_type": "markdown",
   "id": "c7116a0c",
   "metadata": {},
   "source": [
    "Set seaborn default theme"
   ]
  },
  {
   "cell_type": "code",
   "execution_count": null,
   "id": "05877eaf",
   "metadata": {},
   "outputs": [],
   "source": [
    "import seaborn as sns\n",
    "import pandas as pd\n",
    "import matplotlib as mpl\n",
    "import matplotlib.pyplot as plt\n",
    "import numpy as np\n",
    "import sklearn as sk\n",
    "from sklearn.feature_selection import f_classif, SelectKBest\n",
    "import math as m\n",
    "import plotly.express as px"
   ]
  },
  {
   "cell_type": "markdown",
   "id": "049365eb",
   "metadata": {},
   "source": [
    "Set seaborn default theme"
   ]
  },
  {
   "cell_type": "code",
   "execution_count": null,
   "id": "6962148e",
   "metadata": {},
   "outputs": [],
   "source": [
    "sns.set_theme()"
   ]
  },
  {
   "cell_type": "markdown",
   "id": "f702c2e1",
   "metadata": {},
   "source": [
    "If needed tweak parameters of matplotlib.\n",
    "Here we increase the size and dpi to bet a bigger but still high-res image."
   ]
  },
  {
   "cell_type": "code",
   "execution_count": null,
   "id": "e64dba3e",
   "metadata": {},
   "outputs": [],
   "source": [
    "mpl.rcParams[\"figure.dpi\"] = 200\n",
    "mpl.rcParams[\"figure.figsize\"] = (20, 15)\n",
    "%matplotlib inline"
   ]
  },
  {
   "cell_type": "markdown",
   "id": "2fc9c0f0",
   "metadata": {},
   "source": [
    "## Exercise 1"
   ]
  },
  {
   "cell_type": "markdown",
   "id": "8d3ca401",
   "metadata": {},
   "source": [
    "### a)"
   ]
  },
  {
   "cell_type": "markdown",
   "id": "46911ea2",
   "metadata": {},
   "source": [
    "Read the dataset with Pandas and store dataframe.\n",
    "Then delete ever line that is not of one of the classes c-CS-s or t-CS-s."
   ]
  },
  {
   "cell_type": "code",
   "execution_count": null,
   "id": "a3bc10ae",
   "metadata": {},
   "outputs": [],
   "source": [
    "df = pd.read_excel(\"data/Data_Cortex_Nuclear.xls\")\n",
    "df_subgroups = df[\n",
    "    np.logical_or(df[\"class\"] == \"c-CS-s\", df[\"class\"] == \"t-CS-s\")\n",
    "].copy()"
   ]
  },
  {
   "cell_type": "markdown",
   "id": "4f890044",
   "metadata": {},
   "source": [
    "First we print the amount of mice depending on the class.\n",
    "This is 135 for the c-CS-s mice and  105 for the t-CS-s mice."
   ]
  },
  {
   "cell_type": "code",
   "execution_count": null,
   "id": "2ddf9e99",
   "metadata": {},
   "outputs": [],
   "source": [
    "df_subgroups[\"class\"].value_counts()"
   ]
  },
  {
   "cell_type": "markdown",
   "id": "d8038ce6",
   "metadata": {},
   "source": [
    "### b)"
   ]
  },
  {
   "cell_type": "markdown",
   "id": "45daefa5",
   "metadata": {},
   "source": [
    "Get array of 0 and 1 to scale the color depending on the class."
   ]
  },
  {
   "cell_type": "code",
   "execution_count": null,
   "id": "0befee03",
   "metadata": {},
   "outputs": [],
   "source": [
    "colors = df_subgroups[\"class\"].map(\n",
    "    {\n",
    "        \"t-CS-s\": 0,\n",
    "        \"c-CS-s\": 1,\n",
    "    },\n",
    ")"
   ]
  },
  {
   "cell_type": "markdown",
   "id": "0aa0a1aa",
   "metadata": {},
   "source": [
    "Now we make a parallel plot. We plot the dataframe with the 5 proteins named in the task and use different colors for the 2 classes t-CS-s and c-CS-s."
   ]
  },
  {
   "cell_type": "code",
   "execution_count": null,
   "id": "4ef56f81",
   "metadata": {},
   "outputs": [],
   "source": [
    "fig = px.parallel_coordinates(\n",
    "    df_subgroups,\n",
    "    color=colors,\n",
    "    dimensions=[\"pPKCG_N\", \"pP70S6_N\", \"pS6_N\", \"pGSK3B_N\", \"ARC_N\"],\n",
    "    color_continuous_scale=px.colors.diverging.Tealrose,\n",
    "    color_continuous_midpoint=0.5,\n",
    ")\n",
    "fig.update_layout(\n",
    "    coloraxis_colorbar=dict(\n",
    "        title=\"Class\",\n",
    "        tickvals=[0, 1],\n",
    "        ticktext=[\"t-CS-s\", \"c-CS-s\"],\n",
    "        lenmode=\"pixels\",\n",
    "        len=200,\n",
    "    ),\n",
    ")\n",
    "fig.show()"
   ]
  },
  {
   "cell_type": "markdown",
   "id": "62aed507",
   "metadata": {},
   "source": [
    "### c)"
   ]
  },
  {
   "cell_type": "markdown",
   "id": "46274b3d",
   "metadata": {},
   "source": [
    "By rearranging the axes we notice that the values of pS6_N and ARC_N are exatly equal."
   ]
  },
  {
   "cell_type": "markdown",
   "id": "9ffe577c",
   "metadata": {},
   "source": [
    "## Exercise 3"
   ]
  },
  {
   "cell_type": "markdown",
   "id": "c5b8167d",
   "metadata": {},
   "source": [
    "See the end of the pdf."
   ]
  },
  {
   "cell_type": "markdown",
   "id": "9853662a",
   "metadata": {},
   "source": [
    "## Exercise 3"
   ]
  },
  {
   "cell_type": "markdown",
   "id": "ad29ff43",
   "metadata": {},
   "source": [
    "### a)"
   ]
  },
  {
   "cell_type": "markdown",
   "id": "879361f8",
   "metadata": {},
   "source": [
    "Note how we cannot use the \"code\" clumn as index as int contains 53 duplicates."
   ]
  },
  {
   "cell_type": "code",
   "execution_count": null,
   "id": "a5eb2a1b",
   "metadata": {},
   "outputs": [],
   "source": [
    "df = pd.read_excel(\"data/breast-cancer-wisconsin.xlsx\")"
   ]
  },
  {
   "cell_type": "markdown",
   "id": "efd31957",
   "metadata": {},
   "source": [
    "From the below we can see that we have 16 missing values in the column bareNuc (Bare Nuclei)."
   ]
  },
  {
   "cell_type": "code",
   "execution_count": null,
   "id": "dc784cc2",
   "metadata": {},
   "outputs": [],
   "source": [
    "df.isna().aggregate(np.sum)"
   ]
  },
  {
   "cell_type": "markdown",
   "id": "c00e4c64",
   "metadata": {},
   "source": [
    "As these are less than 3% of all the data and about 7% of patients with a malignant tumor we decide to just leave the patiens with missing values out."
   ]
  },
  {
   "cell_type": "code",
   "execution_count": null,
   "id": "7dd826fc",
   "metadata": {},
   "outputs": [],
   "source": [
    "df = df.dropna()"
   ]
  },
  {
   "cell_type": "markdown",
   "id": "8c8deb09",
   "metadata": {},
   "source": [
    "## b)"
   ]
  },
  {
   "cell_type": "code",
   "execution_count": null,
   "id": "f95ab19d",
   "metadata": {},
   "outputs": [],
   "source": [
    "data_columns = df.columns.difference([\"class\", \"code\"])"
   ]
  },
  {
   "cell_type": "code",
   "execution_count": null,
   "id": "45c3aef1",
   "metadata": {},
   "outputs": [],
   "source": [
    "n_components = len(data_columns)"
   ]
  },
  {
   "cell_type": "code",
   "execution_count": null,
   "id": "032c83c9",
   "metadata": {},
   "outputs": [],
   "source": [
    "df_wo_meta = df[data_columns]"
   ]
  },
  {
   "cell_type": "code",
   "execution_count": null,
   "id": "9482eae8",
   "metadata": {},
   "outputs": [],
   "source": [
    "pca = sk.decomposition.PCA(n_components=n_components)"
   ]
  },
  {
   "cell_type": "markdown",
   "id": "b7c3779a",
   "metadata": {},
   "source": [
    "Next we did PCA with all 9 columns.\n",
    "We first get a PCA instance, then fit it to our data and after that transform our data according to the PCA result.\n",
    "To make a plot where we can see how high the variance is depending on the amount of components we make the sumcum over the variance each component yields."
   ]
  },
  {
   "cell_type": "code",
   "execution_count": null,
   "id": "9782df89",
   "metadata": {},
   "outputs": [],
   "source": [
    "pca.fit(df_wo_meta)\n",
    "x_transformed = pca.transform(df_wo_meta)\n",
    "plt.plot(\n",
    "    np.cumsum(pca.explained_variance_ratio_),\n",
    ")\n",
    "plt.xlabel(\"Amount of components\")\n",
    "_ = plt.ylabel(\"Variance covered\")"
   ]
  },
  {
   "cell_type": "markdown",
   "id": "d3a8679d",
   "metadata": {},
   "source": [
    "To find out how many components we need to at least 90% of the variance we computed PCA in such a way that we get a PCA transformation that yields 90% of the variance.\n",
    "After this we print the shape of our transformed data and can see that we need 5 components to have at least 90% of the variance covered."
   ]
  },
  {
   "cell_type": "code",
   "execution_count": null,
   "id": "70a91985",
   "metadata": {},
   "outputs": [],
   "source": [
    "pca_most = sk.decomposition.PCA(n_components=0.9)\n",
    "pca_most.fit(df_wo_meta)\n",
    "transformed_most = pca_most.transform(df_wo_meta)"
   ]
  },
  {
   "cell_type": "code",
   "execution_count": null,
   "id": "88ab35fb",
   "metadata": {},
   "outputs": [],
   "source": [
    "n_principal_components = transformed_most.shape[1]"
   ]
  },
  {
   "cell_type": "code",
   "execution_count": null,
   "id": "9f8c3522",
   "metadata": {},
   "outputs": [],
   "source": [
    "n_principal_components"
   ]
  },
  {
   "cell_type": "markdown",
   "id": "6915215f",
   "metadata": {},
   "source": [
    "### c)"
   ]
  },
  {
   "cell_type": "markdown",
   "id": "cb2fb6d0",
   "metadata": {},
   "source": [
    "To make scatter plot matrix we now create a dataframe from the PCA result.\n",
    "We then make a column with the class names and assign each sample a class wether its malignant or benign.\n",
    "Then we use this dataframe to make a scatterplot with the class_names as hue."
   ]
  },
  {
   "cell_type": "code",
   "execution_count": null,
   "id": "256f842f",
   "metadata": {},
   "outputs": [],
   "source": [
    "df_most = pd.DataFrame(\n",
    "    transformed_most,\n",
    "    index=df.index,\n",
    "    columns=[f\"PC {i}\" for i in range(1, n_principal_components + 1)],\n",
    ")"
   ]
  },
  {
   "cell_type": "code",
   "execution_count": null,
   "id": "28870a01",
   "metadata": {},
   "outputs": [],
   "source": [
    "df_most[\"class_name\"] = df[\"class\"].map({4: \"malignant\", 2: \"benign\"})\n",
    "\n",
    "sns.pairplot(df_most, hue=\"class_name\")"
   ]
  },
  {
   "cell_type": "markdown",
   "id": "f978c5fc",
   "metadata": {},
   "source": [
    "### d)"
   ]
  },
  {
   "cell_type": "markdown",
   "id": "262fddfd",
   "metadata": {},
   "source": [
    "The first PCA mode shows the strongest difference in distributions.\n",
    "That makes a lot of sense since the first pca mode covers the biggest fraction of variance."
   ]
  },
  {
   "cell_type": "markdown",
   "id": "ec5264c2",
   "metadata": {},
   "source": [
    "We take the first row of the matrix and then look what the index of the maximum value is.\n",
    "This is the index to the column of the original data.\n",
    "In our case bareNuc has the biggest influence for the first component."
   ]
  },
  {
   "cell_type": "code",
   "execution_count": null,
   "id": "60439c59",
   "metadata": {},
   "outputs": [],
   "source": [
    "df_wo_meta.columns[np.argmax(pca_most.components_[0, :])]"
   ]
  },
  {
   "cell_type": "markdown",
   "id": "1ca5541d",
   "metadata": {},
   "source": [
    "Now the minimum."
   ]
  },
  {
   "cell_type": "code",
   "execution_count": null,
   "id": "8decd50a",
   "metadata": {},
   "outputs": [],
   "source": [
    "df_wo_meta.columns[np.argmin(pca_most.components_[0, :])]"
   ]
  },
  {
   "cell_type": "markdown",
   "id": "7a4a3f1d",
   "metadata": {},
   "source": [
    "### e)"
   ]
  },
  {
   "cell_type": "markdown",
   "id": "03f55c5c",
   "metadata": {},
   "source": [
    "We use plotly and its functionality \"Box select\" to highlight the outlier in all plots to see that it is\n",
    "in fact an outlier in all components.\n",
    "Also we abuse `hover_data` to plot all attributes of the datapoint.\n",
    "In the same way we abuse `hover_data` to show the datapoint index."
   ]
  },
  {
   "cell_type": "code",
   "execution_count": null,
   "id": "bb6aaa93",
   "metadata": {},
   "outputs": [],
   "source": [
    "fig = px.scatter_matrix(\n",
    "    df_most,\n",
    "    dimensions=df_most.columns.difference([\"class_name\"]),\n",
    "    color=\"class_name\",\n",
    "    hover_name=df_most.index,\n",
    "    hover_data=df_most,\n",
    ")\n",
    "fig.show()"
   ]
  },
  {
   "cell_type": "markdown",
   "id": "2cdeab1e",
   "metadata": {},
   "source": [
    "Since we got the index by reading point name from above we can just abuse."
   ]
  },
  {
   "cell_type": "code",
   "execution_count": null,
   "id": "bbff81db",
   "metadata": {},
   "outputs": [],
   "source": [
    "df_most_wo_outlier = df_most.drop(\n",
    "    6,\n",
    "    axis=0,\n",
    ")"
   ]
  },
  {
   "cell_type": "code",
   "execution_count": null,
   "id": "2d82cc30",
   "metadata": {},
   "outputs": [],
   "source": [
    "sns.pairplot(df_most_wo_outlier, hue=\"class_name\")"
   ]
  },
  {
   "cell_type": "markdown",
   "id": "45be4776",
   "metadata": {},
   "source": [
    "### f)"
   ]
  },
  {
   "cell_type": "markdown",
   "id": "746f1814",
   "metadata": {},
   "source": [
    "The huge difference in ranges would affect PCA, because axis the bigger range has a way higher variance.\n",
    "We can use normalisation to compute a relative variance.\n",
    "So the first principal component would explain a lot of the variance,\n",
    "but when PCA is computed on the normalized dataset the first component would most likely explain a lot less variance.\n",
    "If for example the dataset we analysed in this task was in this form\n",
    "this could lead us to depict only 4 instead of 5 principle components for a coverage of 90% variance. \n",
    "\n",
    "\n",
    "So it would make sense to pre-process the data.\n",
    "This can be done by the code below. "
   ]
  },
  {
   "cell_type": "code",
   "execution_count": null,
   "id": "e107a5ee",
   "metadata": {},
   "outputs": [],
   "source": [
    "scaler = sk.preprocessing.StandardScaler()\n",
    "scaler.fit(df_wo_meta)\n",
    "x_scaled = scaler.transform(df_wo_meta)"
   ]
  }
 ],
 "metadata": {
  "kernelspec": {
   "display_name": "Python 3 (ipykernel)",
   "language": "python",
   "name": "python3"
  },
  "language_info": {
   "codemirror_mode": {
    "name": "ipython",
    "version": 3
   },
   "file_extension": ".py",
   "mimetype": "text/x-python",
   "name": "python",
   "nbconvert_exporter": "python",
   "pygments_lexer": "ipython3",
   "version": "3.10.11"
  }
 },
 "nbformat": 4,
 "nbformat_minor": 5
}

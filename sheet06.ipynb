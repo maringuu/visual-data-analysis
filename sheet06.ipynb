{
 "cells": [
  {
   "cell_type": "markdown",
   "id": "92a0836e",
   "metadata": {},
   "source": [
    "# Sheet 06"
   ]
  },
  {
   "cell_type": "markdown",
   "id": "f462c2fc",
   "metadata": {},
   "source": [
    "## Preamble"
   ]
  },
  {
   "cell_type": "markdown",
   "id": "3f7c6c28",
   "metadata": {},
   "source": [
    "Autors: Marten Ringwelski, Nico Ostermann, Simon Liessem"
   ]
  },
  {
   "cell_type": "markdown",
   "id": "a1bbbd45",
   "metadata": {},
   "source": [
    "Note that this notebook MUST be executed in order to get everything to work.\n",
    "The tasks can't be run individually. "
   ]
  },
  {
   "cell_type": "markdown",
   "id": "1ab973fc",
   "metadata": {},
   "source": [
    "Also eCampus does not allow for uploading nested directory structures which makes it hard to properly organize the files. The files are expected to be in the `data` directory which itself is placed next to this notebook.\n",
    "\n",
    "If you extract the zip file we handed in everything should work just fine."
   ]
  },
  {
   "cell_type": "markdown",
   "id": "5b476f10",
   "metadata": {},
   "source": [
    "Autoformatting if `jupyter-black` is installed."
   ]
  },
  {
   "cell_type": "code",
   "execution_count": null,
   "id": "c6501019",
   "metadata": {},
   "outputs": [],
   "source": [
    "try:\n",
    "    import black\n",
    "    import jupyter_black\n",
    "\n",
    "    jupyter_black.load(\n",
    "        lab=False,\n",
    "        line_length=79,\n",
    "        verbosity=\"DEBUG\",\n",
    "        target_version=black.TargetVersion.PY310,\n",
    "    )\n",
    "except ImportError:\n",
    "    pass"
   ]
  },
  {
   "cell_type": "markdown",
   "id": "3dc11336",
   "metadata": {},
   "source": [
    "Import all we weed and more."
   ]
  },
  {
   "cell_type": "markdown",
   "id": "c7116a0c",
   "metadata": {},
   "source": [
    "Set seaborn default theme"
   ]
  },
  {
   "cell_type": "code",
   "execution_count": null,
   "id": "05877eaf",
   "metadata": {},
   "outputs": [],
   "source": [
    "import seaborn as sns\n",
    "import pandas as pd\n",
    "import matplotlib as mpl\n",
    "import matplotlib.pyplot as plt\n",
    "import numpy as np\n",
    "import sklearn as sk\n",
    "from sklearn.feature_selection import f_classif, SelectKBest\n",
    "import math as m\n",
    "import plotly.express as px\n",
    "import sklearn.manifold\n",
    "import sklearn.discriminant_analysis\n",
    "import scipy as sp\n",
    "import scipy.sparse\n",
    "import skimage\n",
    "from dash import Dash, html, dcc, callback, Output, Input, State\n",
    "from jupyter_dash import JupyterDash\n",
    "import dash_bootstrap_components as dbc\n",
    "import graphviz\n",
    "\n",
    "from matplotlib.colors import rgb2hex"
   ]
  },
  {
   "cell_type": "markdown",
   "id": "049365eb",
   "metadata": {},
   "source": [
    "Set seaborn default theme"
   ]
  },
  {
   "cell_type": "code",
   "execution_count": null,
   "id": "6962148e",
   "metadata": {},
   "outputs": [],
   "source": [
    "sns.set_theme()"
   ]
  },
  {
   "cell_type": "markdown",
   "id": "f702c2e1",
   "metadata": {},
   "source": [
    "If needed tweak parameters of matplotlib.\n",
    "Here we increase the size and dpi to bet a bigger but still high-res image."
   ]
  },
  {
   "cell_type": "code",
   "execution_count": null,
   "id": "e64dba3e",
   "metadata": {},
   "outputs": [],
   "source": [
    "mpl.rcParams[\"figure.dpi\"] = 200\n",
    "mpl.rcParams[\"figure.figsize\"] = (20, 15)\n",
    "%matplotlib inline"
   ]
  },
  {
   "cell_type": "markdown",
   "id": "5a21f26a",
   "metadata": {},
   "source": [
    "Disable future warnings as we get a lot of them and don't really care for this sheet."
   ]
  },
  {
   "cell_type": "code",
   "execution_count": null,
   "id": "5009ee59",
   "metadata": {},
   "outputs": [],
   "source": [
    "import warnings\n",
    "\n",
    "warnings.simplefilter(action=\"ignore\", category=FutureWarning)"
   ]
  },
  {
   "cell_type": "markdown",
   "id": "c18a609f",
   "metadata": {},
   "source": [
    "# Exercise 1"
   ]
  },
  {
   "cell_type": "markdown",
   "id": "bb2591f4",
   "metadata": {},
   "source": [
    "### a)"
   ]
  },
  {
   "cell_type": "markdown",
   "id": "9ba0acd3",
   "metadata": {},
   "source": [
    "First we read the Breast Cancer Dataset. Then we fill the Nans and compute the pearson correlations."
   ]
  },
  {
   "cell_type": "code",
   "execution_count": null,
   "id": "a97bab81",
   "metadata": {},
   "outputs": [],
   "source": [
    "df = pd.read_excel(\"data/breast-cancer-wisconsin.xlsx\")\n",
    "df = df.fillna(df.mean())\n",
    "correlation = df.corr(method=\"pearson\")"
   ]
  },
  {
   "cell_type": "markdown",
   "id": "f5679832",
   "metadata": {},
   "source": [
    "### b)"
   ]
  },
  {
   "cell_type": "markdown",
   "id": "490838f3",
   "metadata": {},
   "source": [
    "Now we create a graph with the variables as the nodes. \n",
    "The graph is strict because we dont want to have more than one edge from one node to the other.\n",
    "As engine we use fdp for a force directed layout."
   ]
  },
  {
   "cell_type": "code",
   "execution_count": null,
   "id": "f307e4c6",
   "metadata": {},
   "outputs": [],
   "source": [
    "e = graphviz.Graph(\"escapes\", strict=True, engine=\"fdp\")\n",
    "for column in correlation.columns:\n",
    "    e.node(column, column)"
   ]
  },
  {
   "cell_type": "markdown",
   "id": "84c5035c",
   "metadata": {},
   "source": [
    "Now we create edges if the correlation of two nodes is greater that 0.6."
   ]
  },
  {
   "cell_type": "code",
   "execution_count": null,
   "id": "3164f69f",
   "metadata": {},
   "outputs": [],
   "source": [
    "for column in correlation.columns:\n",
    "    for row in correlation.index:\n",
    "        if correlation[column].loc[[row]].values > 0.6 and row != column:\n",
    "            e.edge(column, row)"
   ]
  },
  {
   "cell_type": "code",
   "execution_count": null,
   "id": "4fa0619a",
   "metadata": {},
   "outputs": [],
   "source": [
    "e"
   ]
  },
  {
   "cell_type": "markdown",
   "id": "19b92a2a",
   "metadata": {},
   "source": [
    "### c)"
   ]
  },
  {
   "cell_type": "markdown",
   "id": "d1ba6957",
   "metadata": {},
   "source": [
    "Now we modify the edges, so that the edges are more transparent when the correlation is smaller."
   ]
  },
  {
   "cell_type": "code",
   "execution_count": null,
   "id": "befa0802",
   "metadata": {},
   "outputs": [],
   "source": [
    "cmap = mpl.colormaps[\"Blues\"]\n",
    "\n",
    "for column in correlation.columns:\n",
    "    for row in correlation.index:\n",
    "        if correlation[column].loc[[row]].values > 0.6 and row != column:\n",
    "            normalized_correlation = (\n",
    "                correlation[column].loc[[row]].values[0] - 0.6\n",
    "            ) / 0.4\n",
    "            color = cmap(normalized_correlation)\n",
    "            color = mpl.colors.rgb2hex(color[:3])\n",
    "            e.edge(\n",
    "                column,\n",
    "                row,\n",
    "                color=color,\n",
    "                penwidth=f\"{normalized_correlation*5+2}\",\n",
    "            )"
   ]
  },
  {
   "cell_type": "code",
   "execution_count": null,
   "id": "4c426537",
   "metadata": {},
   "outputs": [],
   "source": [
    "e"
   ]
  },
  {
   "cell_type": "markdown",
   "id": "228b8771",
   "metadata": {},
   "source": [
    "### d)"
   ]
  },
  {
   "cell_type": "markdown",
   "id": "16694174",
   "metadata": {},
   "source": [
    "In this task we will use a circular layout."
   ]
  },
  {
   "cell_type": "code",
   "execution_count": null,
   "id": "a6bc0e51",
   "metadata": {},
   "outputs": [],
   "source": [
    "e = graphviz.Graph(\"escapes\", strict=True, engine=\"circo\")"
   ]
  },
  {
   "cell_type": "markdown",
   "id": "f2ab4427",
   "metadata": {},
   "source": [
    "Now we make 4 sets of nodes depending on their highest correlation and color them different."
   ]
  },
  {
   "cell_type": "code",
   "execution_count": null,
   "id": "10dba3b1",
   "metadata": {},
   "outputs": [],
   "source": [
    "list_6 = []\n",
    "list_8 = []\n",
    "list_9 = []\n",
    "node_cmap = mpl.colormaps[\"Greens\"]\n",
    "for column in correlation.columns:\n",
    "    e.node(column, column, style=\"filled\", fillcolor=\"white\")\n",
    "    for row in correlation.index:\n",
    "        if correlation[column].loc[[row]].values[0] > 0.6 and column != row:\n",
    "            list_6.append(column)\n",
    "        if correlation[column].loc[[row]].values[0] > 0.8 and column != row:\n",
    "            list_8.append(column)\n",
    "        if correlation[column].loc[[row]].values[0] > 0.9 and column != row:\n",
    "            list_9.append(column)\n",
    "\n",
    "for column in correlation.columns:\n",
    "    if column in list_9:\n",
    "        e.node(\n",
    "            column,\n",
    "            column,\n",
    "            style=\"filled\",\n",
    "            fillcolor=rgb2hex(node_cmap(0.9)[:3]),\n",
    "        )\n",
    "    elif column in list_8:\n",
    "        e.node(\n",
    "            column,\n",
    "            column,\n",
    "            style=\"filled\",\n",
    "            fillcolor=rgb2hex(node_cmap(0.6)[:3]),\n",
    "        )\n",
    "    elif column in list_6:\n",
    "        e.node(\n",
    "            column,\n",
    "            column,\n",
    "            style=\"filled\",\n",
    "            fillcolor=rgb2hex(node_cmap(0.3)[:3]),\n",
    "        )"
   ]
  },
  {
   "cell_type": "markdown",
   "id": "a0e7f070",
   "metadata": {},
   "source": [
    "Here we have to insert the edges again, because the nodes were generated new."
   ]
  },
  {
   "cell_type": "code",
   "execution_count": null,
   "id": "94896bff",
   "metadata": {},
   "outputs": [],
   "source": [
    "cmap = mpl.cm.get_cmap(\"Blues\")\n",
    "\n",
    "for column in correlation.columns:\n",
    "    for row in correlation.index:\n",
    "        if correlation[column].loc[[row]].values > 0.6 and row != column:\n",
    "            normalized_correlation = (\n",
    "                correlation[column].loc[[row]].values[0] - 0.6\n",
    "            ) / 0.4\n",
    "            color = cmap(normalized_correlation)\n",
    "            color = mpl.colors.rgb2hex(color[:3])\n",
    "            e.edge(\n",
    "                column,\n",
    "                row,\n",
    "                color=color,\n",
    "                penwidth=f\"{normalized_correlation*5+2}\",\n",
    "            )"
   ]
  },
  {
   "cell_type": "code",
   "execution_count": null,
   "id": "b822f764",
   "metadata": {},
   "outputs": [],
   "source": [
    "e"
   ]
  },
  {
   "cell_type": "markdown",
   "id": "7ebd5e9d",
   "metadata": {},
   "source": [
    "### e)"
   ]
  },
  {
   "cell_type": "markdown",
   "id": "5e2197b4",
   "metadata": {},
   "source": [
    "The nodes that are disconected are mitoses and code. \n",
    "This makes sense because the code is metadata and it makes sense, that this metadata does not correlate.\n",
    "Mitosis denotes a value of cell division.\n",
    "\n",
    "In the picture we see that thickness-class are strongly correlated and class-epiCelSize are strongly correlated.\n",
    "Nevertheless thickness-epiCelSize are not stronly correlated.\n",
    "\n",
    "We would take bareNuc, uniCelShape and uniCelS since they are all very strongly correlated to class.\n",
    "\n"
   ]
  },
  {
   "cell_type": "markdown",
   "id": "83f5488d",
   "metadata": {},
   "source": [
    "# Exercise 2"
   ]
  },
  {
   "cell_type": "markdown",
   "id": "f874b161",
   "metadata": {},
   "source": [
    "### a)"
   ]
  },
  {
   "cell_type": "markdown",
   "id": "70ad23fa",
   "metadata": {},
   "source": [
    "Vertices: \n",
    "The first two integers, and last two integers give the beginning and end of a double linked list with outgoing, incoming edges of the vertex, respectively.\n",
    "Edges:\n",
    "The first 4 integers store the next edge and the previous edge, for each of the double linked lists.\n",
    "The last two integers store the first vertex (source) and second vertex (target)\n",
    "    \n",
    "To reduce memory consumption, the double linked lists can be replaced with single linked lists.\n",
    "This leads to the second and forth integer of the vertex, and the second and forth integer of the edge to be omittable.\n"
   ]
  },
  {
   "cell_type": "markdown",
   "id": "8bd59e48",
   "metadata": {},
   "source": [
    "### b)"
   ]
  },
  {
   "cell_type": "markdown",
   "id": "419269d6",
   "metadata": {},
   "source": [
    "In the case of the graph being a directed Graph, we assume the desired edge has u as its first and v as its second vertex. "
   ]
  },
  {
   "cell_type": "markdown",
   "id": "44a77601",
   "metadata": {},
   "source": [
    "Vertex u\n",
    "\n",
    "for edge in u.outgoing_edges: \n",
    "***\n",
    "    if edge.second_edge == v: \n",
    "***\n",
    "        return edge.index\n",
    "***\n",
    "return None"
   ]
  },
  {
   "cell_type": "markdown",
   "id": "b0921741",
   "metadata": {},
   "source": [
    "### c)"
   ]
  },
  {
   "cell_type": "markdown",
   "id": "45495001",
   "metadata": {},
   "source": [
    "The modifications serve as a way to further spread the choosing of the pivot elements by cutting the cost of all edges within the chosen path between two pivot elements in half.\n",
    "This serves the purpose of a wider spread selection of pivot elements, instead of the pivot elements clustering within the area of the first two."
   ]
  },
  {
   "cell_type": "markdown",
   "id": "bffa80ea",
   "metadata": {},
   "source": [
    "### d)"
   ]
  },
  {
   "cell_type": "markdown",
   "id": "255726c9",
   "metadata": {},
   "source": [
    "Geometric zoom: zooming closer to the actual target, i.e. making a vertex bigger\n",
    "\n",
    "Detail zoom: increasing the level of detail on a given target"
   ]
  },
  {
   "cell_type": "markdown",
   "id": "4392757a",
   "metadata": {},
   "source": [
    "# Exercise 3"
   ]
  },
  {
   "cell_type": "markdown",
   "id": "843a5e0e",
   "metadata": {},
   "source": [
    "### a)"
   ]
  },
  {
   "cell_type": "markdown",
   "id": "5711341f",
   "metadata": {},
   "source": [
    "Read data and use mean for missing data."
   ]
  },
  {
   "cell_type": "code",
   "execution_count": null,
   "id": "1897ffd6",
   "metadata": {},
   "outputs": [],
   "source": [
    "df = pd.read_excel(\n",
    "    \"data/Data_Cortex_Nuclear.xls\",\n",
    "    index_col=\"MouseID\",\n",
    ")\n",
    "df = df.fillna(df.mean())"
   ]
  },
  {
   "cell_type": "markdown",
   "id": "8b6e2912",
   "metadata": {},
   "source": [
    "Now we do PCA, t-SNE and ISOMAP with parameters that we used in sheet 04."
   ]
  },
  {
   "cell_type": "code",
   "execution_count": null,
   "id": "4bf7de38",
   "metadata": {},
   "outputs": [],
   "source": [
    "meta_columns = [\"Genotype\", \"Treatment\", \"Behavior\", \"class\"]\n",
    "data_columns = df.columns.difference(meta_columns)\n",
    "df_wo_meta = df[data_columns]\n",
    "\n",
    "df_scs = df_wo_meta[\n",
    "    np.logical_or(\n",
    "        df[\"class\"] == \"c-SC-s\",\n",
    "        df[\"class\"] == \"t-SC-s\",\n",
    "    )\n",
    "].copy()"
   ]
  },
  {
   "cell_type": "code",
   "execution_count": null,
   "id": "8af24798",
   "metadata": {},
   "outputs": [],
   "source": [
    "pca = sk.decomposition.PCA(\n",
    "    n_components=2,\n",
    ")\n",
    "# XXX There must be a better way to do this\n",
    "df_pca = pd.DataFrame(\n",
    "    pca.fit_transform(df_scs),\n",
    "    columns=[\"x\", \"y\"],\n",
    "    index=df_scs.index,\n",
    ")\n",
    "df_pca[df.columns] = df"
   ]
  },
  {
   "cell_type": "code",
   "execution_count": null,
   "id": "81613321",
   "metadata": {},
   "outputs": [],
   "source": [
    "# We don't care that the calculation is expensive\n",
    "warnings.simplefilter(\n",
    "    action=\"ignore\",\n",
    "    category=sp.sparse.SparseEfficiencyWarning,\n",
    ")\n",
    "\n",
    "isomap = sk.manifold.Isomap(\n",
    "    n_neighbors=20,\n",
    ")\n",
    "\n",
    "df_isomap = pd.DataFrame(\n",
    "    isomap.fit_transform(df_scs),\n",
    "    columns=[\"x\", \"y\"],\n",
    "    index=df_scs.index,\n",
    ")\n",
    "\n",
    "df_isomap[df.columns] = df"
   ]
  },
  {
   "cell_type": "code",
   "execution_count": null,
   "id": "70677141",
   "metadata": {},
   "outputs": [],
   "source": [
    "tsne = sk.manifold.TSNE(\n",
    "    perplexity=15,\n",
    ")\n",
    "\n",
    "df_tsne = pd.DataFrame(\n",
    "    tsne.fit_transform(df_scs),\n",
    "    columns=[\"x\", \"y\"],\n",
    "    index=df_scs.index,\n",
    ")\n",
    "\n",
    "df_tsne[df.columns] = df"
   ]
  },
  {
   "cell_type": "markdown",
   "id": "6cf8dcf0",
   "metadata": {},
   "source": [
    "Now create the dash app."
   ]
  },
  {
   "cell_type": "code",
   "execution_count": null,
   "id": "c840d7ef",
   "metadata": {},
   "outputs": [],
   "source": [
    "# https://dash.plotly.com/workspaces/using-dash-in-jupyter-and-workspaces"
   ]
  },
  {
   "cell_type": "code",
   "execution_count": null,
   "id": "4ad271dc",
   "metadata": {},
   "outputs": [],
   "source": [
    "app = JupyterDash(__name__)"
   ]
  },
  {
   "cell_type": "code",
   "execution_count": null,
   "id": "47de4429",
   "metadata": {},
   "outputs": [],
   "source": [
    "app.layout = html.Div(\n",
    "    children=[\n",
    "        html.Div(\n",
    "            children=[\n",
    "                html.Div(\n",
    "                    children=[\n",
    "                        # First Graph\n",
    "                        dcc.RadioItems(\n",
    "                            [\"PCA\", \"ISOMAP\", \"t-SNE\"],\n",
    "                            \"PCA\",\n",
    "                            id=\"radio-items-dim-reduction\",\n",
    "                        ),\n",
    "                        dcc.Graph(\n",
    "                            figure={},\n",
    "                            id=\"graph-dim-reduction\",\n",
    "                        ),\n",
    "                    ],\n",
    "                    className=\"column\",\n",
    "                ),\n",
    "                html.Div(\n",
    "                    children=[\n",
    "                        # Second Graph\n",
    "                        dcc.Dropdown(\n",
    "                            data_columns,\n",
    "                            data_columns[0],\n",
    "                            id=\"dropdown-x-axis\",\n",
    "                        ),\n",
    "                        dcc.Dropdown(\n",
    "                            data_columns,\n",
    "                            data_columns[0],\n",
    "                            id=\"dropdown-y-axis\",\n",
    "                        ),\n",
    "                        dcc.Graph(\n",
    "                            figure={},\n",
    "                            id=\"graph-xy\",\n",
    "                        ),\n",
    "                    ],\n",
    "                    className=\"column\",\n",
    "                ),\n",
    "            ],\n",
    "            className=\"row\",\n",
    "        ),\n",
    "        # Button for adding things\n",
    "        html.Button(\n",
    "            \"Add\",\n",
    "            id=\"button-add\",\n",
    "        ),\n",
    "        html.Div(children=[], id=\"div-user-defined-graphs\"),\n",
    "    ],\n",
    ")"
   ]
  },
  {
   "cell_type": "markdown",
   "id": "9431b016",
   "metadata": {},
   "source": [
    "First add the radio callback as subtask a) asked us to."
   ]
  },
  {
   "cell_type": "code",
   "execution_count": null,
   "id": "fc6531ef",
   "metadata": {},
   "outputs": [],
   "source": [
    "@app.callback(\n",
    "    Output(\n",
    "        component_id=\"graph-dim-reduction\",\n",
    "        component_property=\"figure\",\n",
    "    ),\n",
    "    Input(\n",
    "        component_id=\"radio-items-dim-reduction\",\n",
    "        component_property=\"value\",\n",
    "    ),\n",
    ")\n",
    "def update_graph_dim_reduction(dim_reduction):\n",
    "    df = None\n",
    "    if dim_reduction == \"PCA\":\n",
    "        df = df_pca\n",
    "    elif dim_reduction == \"ISOMAP\":\n",
    "        df = df_isomap\n",
    "    elif dim_reduction == \"t-SNE\":\n",
    "        df = df_tsne\n",
    "    else:\n",
    "        assert False, \"Nothing selected\"\n",
    "\n",
    "    fig = px.scatter(\n",
    "        df,\n",
    "        x=\"x\",\n",
    "        y=\"y\",\n",
    "    )\n",
    "    return fig"
   ]
  },
  {
   "cell_type": "markdown",
   "id": "420a83b7",
   "metadata": {},
   "source": [
    "Now add a callback to update the second graph."
   ]
  },
  {
   "cell_type": "code",
   "execution_count": null,
   "id": "e426498b",
   "metadata": {},
   "outputs": [],
   "source": [
    "@app.callback(\n",
    "    Output(\n",
    "        component_id=\"graph-xy\",\n",
    "        component_property=\"figure\",\n",
    "    ),\n",
    "    Input(\n",
    "        component_id=\"dropdown-x-axis\",\n",
    "        component_property=\"value\",\n",
    "    ),\n",
    "    Input(\n",
    "        component_id=\"dropdown-y-axis\",\n",
    "        component_property=\"value\",\n",
    "    ),\n",
    ")\n",
    "def update_graph_xy(x_axis, y_axis):\n",
    "    assert x_axis is not None, \"Nothing selected\"\n",
    "    assert y_axis is not None, \"Nothing selected\"\n",
    "\n",
    "    fig = px.scatter(\n",
    "        df,\n",
    "        x=x_axis,\n",
    "        y=y_axis,\n",
    "    )\n",
    "    return fig"
   ]
  },
  {
   "cell_type": "markdown",
   "id": "4ff43b65",
   "metadata": {},
   "source": [
    "Now define the callback for the button."
   ]
  },
  {
   "cell_type": "code",
   "execution_count": null,
   "id": "5f2889ed",
   "metadata": {},
   "outputs": [],
   "source": [
    "@app.callback(\n",
    "    Output(\n",
    "        component_id=\"div-user-defined-graphs\",\n",
    "        component_property=\"children\",\n",
    "    ),\n",
    "    Input(\"button-add\", \"n_clicks\"),\n",
    "    State(\n",
    "        component_id=\"dropdown-x-axis\",\n",
    "        component_property=\"value\",\n",
    "    ),\n",
    "    State(\n",
    "        component_id=\"dropdown-y-axis\",\n",
    "        component_property=\"value\",\n",
    "    ),\n",
    "    State(\n",
    "        component_id=\"div-user-defined-graphs\",\n",
    "        component_property=\"children\",\n",
    "    ),\n",
    "    # We don't want to show a graph when the user didn't click.\n",
    "    prevent_initial_call=True,\n",
    ")\n",
    "def update_div_user_defined_graphs(_, x_axis, y_axis, children):\n",
    "    assert x_axis is not None, \"Nothing selected\"\n",
    "    assert y_axis is not None, \"Nothing selected\"\n",
    "\n",
    "    # Probably it would be better to just copy the figure from above, but anyways\n",
    "    fig = px.scatter(\n",
    "        df,\n",
    "        x=x_axis,\n",
    "        y=y_axis,\n",
    "    )\n",
    "    graph = dcc.Graph(figure=fig)\n",
    "    children.append(graph)\n",
    "    return children"
   ]
  },
  {
   "cell_type": "markdown",
   "id": "15f83e83",
   "metadata": {},
   "source": [
    "Now run the thing."
   ]
  },
  {
   "cell_type": "code",
   "execution_count": null,
   "id": "5fdd6961",
   "metadata": {},
   "outputs": [],
   "source": [
    "if __name__ == \"__main__\":\n",
    "    app.run_server()"
   ]
  },
  {
   "cell_type": "markdown",
   "id": "572d62f9",
   "metadata": {},
   "source": [
    "### b)"
   ]
  },
  {
   "cell_type": "markdown",
   "id": "f6c6ab41",
   "metadata": {},
   "source": [
    "It made sense to combine all tasks in one so pleas have a look at a) for all solutions for a), b) and c)."
   ]
  },
  {
   "cell_type": "markdown",
   "id": "12cf01af",
   "metadata": {},
   "source": [
    "### c)"
   ]
  },
  {
   "cell_type": "markdown",
   "id": "474f47a5",
   "metadata": {},
   "source": [
    "It made sense to combine all tasks in one so pleas have a look at a) for all solutions for a), b) and c)."
   ]
  }
 ],
 "metadata": {
  "kernelspec": {
   "display_name": "marten-xps-archlinux",
   "language": "python",
   "name": "marten-xps-archlinux"
  },
  "language_info": {
   "codemirror_mode": {
    "name": "ipython",
    "version": 3
   },
   "file_extension": ".py",
   "mimetype": "text/x-python",
   "name": "python",
   "nbconvert_exporter": "python",
   "pygments_lexer": "ipython3",
   "version": "3.11.3"
  }
 },
 "nbformat": 4,
 "nbformat_minor": 5
}

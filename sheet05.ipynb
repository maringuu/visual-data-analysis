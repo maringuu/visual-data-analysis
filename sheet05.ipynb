{
 "cells": [
  {
   "cell_type": "markdown",
   "id": "92a0836e",
   "metadata": {},
   "source": [
    "# Sheet 05"
   ]
  },
  {
   "cell_type": "markdown",
   "id": "f462c2fc",
   "metadata": {},
   "source": [
    "## Preamble"
   ]
  },
  {
   "cell_type": "markdown",
   "id": "3f7c6c28",
   "metadata": {},
   "source": [
    "Autors: Marten Ringwelski, Nico Ostermann, Simon Liessem"
   ]
  },
  {
   "cell_type": "markdown",
   "id": "a1bbbd45",
   "metadata": {},
   "source": [
    "Note that this notebook MUST be executed in order to get everything to work.\n",
    "The tasks can't be run individually. "
   ]
  },
  {
   "cell_type": "markdown",
   "id": "1ab973fc",
   "metadata": {},
   "source": [
    "Also eCampus does not allow for uploading nested directory structures which makes it hard to properly organize the files. The files are expected to be in the `data` directory which itself is placed next to this notebook.\n",
    "\n",
    "If you extract the zip file we handed in everything should work just fine."
   ]
  },
  {
   "cell_type": "markdown",
   "id": "5b476f10",
   "metadata": {},
   "source": [
    "Autoformatting if `jupyter-black` is installed."
   ]
  },
  {
   "cell_type": "code",
   "execution_count": null,
   "id": "c6501019",
   "metadata": {},
   "outputs": [],
   "source": [
    "try:\n",
    "    import black\n",
    "    import jupyter_black\n",
    "\n",
    "    jupyter_black.load(\n",
    "        lab=False,\n",
    "        line_length=79,\n",
    "        verbosity=\"DEBUG\",\n",
    "        target_version=black.TargetVersion.PY310,\n",
    "    )\n",
    "except ImportError:\n",
    "    pass"
   ]
  },
  {
   "cell_type": "markdown",
   "id": "3dc11336",
   "metadata": {},
   "source": [
    "Import all we weed and more."
   ]
  },
  {
   "cell_type": "markdown",
   "id": "c7116a0c",
   "metadata": {},
   "source": [
    "Set seaborn default theme"
   ]
  },
  {
   "cell_type": "code",
   "execution_count": null,
   "id": "05877eaf",
   "metadata": {},
   "outputs": [],
   "source": [
    "import seaborn as sns\n",
    "import pandas as pd\n",
    "import matplotlib as mpl\n",
    "import matplotlib.pyplot as plt\n",
    "import numpy as np\n",
    "import sklearn as sk\n",
    "from sklearn.feature_selection import f_classif, SelectKBest\n",
    "import math as m\n",
    "import plotly.express as px\n",
    "import sklearn.manifold\n",
    "import sklearn.discriminant_analysis\n",
    "import scipy as sp\n",
    "import scipy.sparse\n",
    "import skimage"
   ]
  },
  {
   "cell_type": "markdown",
   "id": "049365eb",
   "metadata": {},
   "source": [
    "Set seaborn default theme"
   ]
  },
  {
   "cell_type": "code",
   "execution_count": null,
   "id": "6962148e",
   "metadata": {},
   "outputs": [],
   "source": [
    "sns.set_theme()"
   ]
  },
  {
   "cell_type": "markdown",
   "id": "f702c2e1",
   "metadata": {},
   "source": [
    "If needed tweak parameters of matplotlib.\n",
    "Here we increase the size and dpi to bet a bigger but still high-res image."
   ]
  },
  {
   "cell_type": "code",
   "execution_count": null,
   "id": "e64dba3e",
   "metadata": {},
   "outputs": [],
   "source": [
    "mpl.rcParams[\"figure.dpi\"] = 200\n",
    "mpl.rcParams[\"figure.figsize\"] = (20, 15)\n",
    "%matplotlib inline"
   ]
  },
  {
   "cell_type": "markdown",
   "id": "5a21f26a",
   "metadata": {},
   "source": [
    "Disable future warnings as we get a lot of them and don't really care for this sheet."
   ]
  },
  {
   "cell_type": "code",
   "execution_count": null,
   "id": "5009ee59",
   "metadata": {},
   "outputs": [],
   "source": [
    "import warnings\n",
    "\n",
    "warnings.simplefilter(action=\"ignore\", category=FutureWarning)"
   ]
  },
  {
   "cell_type": "markdown",
   "id": "4392757a",
   "metadata": {},
   "source": [
    "# Exercise 1"
   ]
  },
  {
   "cell_type": "markdown",
   "id": "843a5e0e",
   "metadata": {},
   "source": [
    "### a)"
   ]
  },
  {
   "cell_type": "code",
   "execution_count": null,
   "id": "1334a823",
   "metadata": {},
   "outputs": [],
   "source": [
    "oldtimer_rgb = plt.imread(\"data/oldtimer.png\")\n",
    "oldtimer_hsv = mpl.colors.rgb_to_hsv(oldtimer_rgb)\n",
    "oldtimer_grayscale = oldtimer_hsv[:, :, 2]"
   ]
  },
  {
   "cell_type": "markdown",
   "id": "4fda97f0",
   "metadata": {},
   "source": [
    "Show the original image for reference."
   ]
  },
  {
   "cell_type": "code",
   "execution_count": null,
   "id": "00a30bec",
   "metadata": {},
   "outputs": [],
   "source": [
    "plt.imshow(oldtimer_rgb)"
   ]
  },
  {
   "cell_type": "code",
   "execution_count": null,
   "id": "a8129eb4",
   "metadata": {},
   "outputs": [],
   "source": [
    "plt.imshow(\n",
    "    oldtimer_grayscale,\n",
    "    cmap=\"gray\",\n",
    "    vmin=0,\n",
    "    vmax=1,\n",
    ")"
   ]
  },
  {
   "cell_type": "markdown",
   "id": "ff7dab70",
   "metadata": {},
   "source": [
    "### b)"
   ]
  },
  {
   "cell_type": "code",
   "execution_count": null,
   "id": "42cc6de9",
   "metadata": {},
   "outputs": [],
   "source": [
    "oldtimer_lab = skimage.color.rgb2lab(oldtimer_rgb)"
   ]
  },
  {
   "cell_type": "markdown",
   "id": "ca221f08",
   "metadata": {},
   "source": [
    "We convert to CIE XYZ color space and then use the y which corresponds to luminance."
   ]
  },
  {
   "cell_type": "code",
   "execution_count": null,
   "id": "da80ff19",
   "metadata": {},
   "outputs": [],
   "source": [
    "plt.imshow(oldtimer_rgb[:, :, 1], cmap=\"gray\")"
   ]
  },
  {
   "cell_type": "markdown",
   "id": "aa71ddea",
   "metadata": {},
   "source": [
    "# Exercise 2"
   ]
  },
  {
   "cell_type": "markdown",
   "id": "db4d371c",
   "metadata": {},
   "source": [
    "For this whole task, note that we cannot influence how the plots are displayed in the pdf.\n",
    "\n",
    "If you run the code you can move them around."
   ]
  },
  {
   "cell_type": "markdown",
   "id": "090b101e",
   "metadata": {},
   "source": [
    "### a)"
   ]
  },
  {
   "cell_type": "markdown",
   "id": "42160ce0",
   "metadata": {},
   "source": [
    "The main insight is that w ewant to generate all convex combinations whose factors sum up to 1."
   ]
  },
  {
   "cell_type": "code",
   "execution_count": null,
   "id": "1edcd8f0",
   "metadata": {},
   "outputs": [],
   "source": [
    "def regular_sample_triangle(a, b, c, amount):\n",
    "    \"\"\"Returns points that are convex combinations of a, b and c.\n",
    "    The number of points returned is at least `amount`.\n",
    "    Additionally the convex factors have to sum up to 1.\"\"\"\n",
    "    # Our goal is to have all convex combinations that sum up to 1.\n",
    "    # We use stars and bars to split the interval [0,1] in all possible ways.\n",
    "    # We know that the amount of combinations is (n + k -1) choose k\n",
    "    # where k = 2 since we draw two dividers.\n",
    "    #\n",
    "    # https://mathworld.wolfram.com/Multichoose.html\n",
    "\n",
    "    # We used wolframalpha to solve the formula for n\n",
    "    n = m.ceil(0.5 * (m.sqrt(8 * amount + 1) - 1))\n",
    "\n",
    "    stars = np.linspace(0, 1, n)\n",
    "\n",
    "    bars = np.array(np.meshgrid(np.arange(n), np.arange(n))).T.reshape(-1, 2)\n",
    "    bars = bars[bars[:, 0] <= bars[:, 1]]\n",
    "\n",
    "    values = np.array(\n",
    "        [\n",
    "            stars[bars[:, 0]],\n",
    "            stars[bars[:, 1]] - stars[bars[:, 0]],\n",
    "            np.ones(bars.shape[0]) - stars[bars[:, 1]],\n",
    "        ],\n",
    "    )\n",
    "\n",
    "    pts = values.T @ np.array([a, b, c])\n",
    "\n",
    "    return pts"
   ]
  },
  {
   "cell_type": "markdown",
   "id": "43ca3340",
   "metadata": {},
   "source": [
    "Now finally sample some points."
   ]
  },
  {
   "cell_type": "code",
   "execution_count": null,
   "id": "6c1115dc",
   "metadata": {},
   "outputs": [],
   "source": [
    "r = np.array([1, 0, 0])\n",
    "g = np.array([0, 1, 0])\n",
    "b = np.array([0, 0, 1])\n",
    "\n",
    "amount = 100\n",
    "\n",
    "triangle_rgb = regular_sample_triangle(r, g, b, amount)"
   ]
  },
  {
   "cell_type": "markdown",
   "id": "a97dcdb8",
   "metadata": {},
   "source": [
    "### b)"
   ]
  },
  {
   "cell_type": "markdown",
   "id": "4a05b686",
   "metadata": {},
   "source": [
    "Now show a plot."
   ]
  },
  {
   "cell_type": "code",
   "execution_count": null,
   "id": "390ea246",
   "metadata": {},
   "outputs": [],
   "source": [
    "fig = plt.figure()\n",
    "ax = fig.add_subplot(projection=\"3d\")\n",
    "ax.set_xlabel(\"red\")\n",
    "ax.set_ylabel(\"green\")\n",
    "ax.set_zlabel(\"blue\")\n",
    "\n",
    "ax.scatter(\n",
    "    triangle_rgb[:, 0],\n",
    "    triangle_rgb[:, 1],\n",
    "    triangle_rgb[:, 2],\n",
    "    c=triangle_rgb,\n",
    ")"
   ]
  },
  {
   "cell_type": "markdown",
   "id": "bbcc5177",
   "metadata": {},
   "source": [
    "### c)"
   ]
  },
  {
   "cell_type": "code",
   "execution_count": null,
   "id": "df3a67d5",
   "metadata": {},
   "outputs": [],
   "source": [
    "rgb = np.array([r, g, b])"
   ]
  },
  {
   "cell_type": "markdown",
   "id": "93bd5f2d",
   "metadata": {},
   "source": [
    "We start by converting the whole triangle to CIE Lab.\n",
    "Then we plot using the rgb colors."
   ]
  },
  {
   "cell_type": "code",
   "execution_count": null,
   "id": "001b22cf",
   "metadata": {},
   "outputs": [],
   "source": [
    "cie_lab = skimage.color.rgb2lab(triangle_rgb)"
   ]
  },
  {
   "cell_type": "code",
   "execution_count": null,
   "id": "73df7ec7",
   "metadata": {},
   "outputs": [],
   "source": [
    "triangle_lab = cie_lab @ rgb"
   ]
  },
  {
   "cell_type": "code",
   "execution_count": null,
   "id": "85bf1b32",
   "metadata": {},
   "outputs": [],
   "source": [
    "fig = plt.figure()\n",
    "ax = fig.add_subplot(projection=\"3d\")\n",
    "ax.set_xlabel(\"l\")\n",
    "ax.set_ylabel(\"a\")\n",
    "ax.set_zlabel(\"b\")\n",
    "\n",
    "ax.scatter(\n",
    "    triangle_lab[:, 0],\n",
    "    triangle_lab[:, 1],\n",
    "    triangle_lab[:, 2],\n",
    "    c=triangle_rgb,\n",
    ")"
   ]
  },
  {
   "cell_type": "markdown",
   "id": "cd8cfd2d",
   "metadata": {},
   "source": [
    "Now the same for CIE XYZ."
   ]
  },
  {
   "cell_type": "code",
   "execution_count": null,
   "id": "2c649044",
   "metadata": {},
   "outputs": [],
   "source": [
    "cie_xyz = skimage.color.rgb2xyz(triangle_rgb)"
   ]
  },
  {
   "cell_type": "code",
   "execution_count": null,
   "id": "56c82a4c",
   "metadata": {},
   "outputs": [],
   "source": [
    "triangle_xyz = cie_xyz @ rgb"
   ]
  },
  {
   "cell_type": "code",
   "execution_count": null,
   "id": "62cfc74f",
   "metadata": {},
   "outputs": [],
   "source": [
    "fig = plt.figure()\n",
    "ax = fig.add_subplot(projection=\"3d\")\n",
    "ax.set_xlabel(\"x\")\n",
    "ax.set_ylabel(\"y\")\n",
    "ax.set_zlabel(\"z\")\n",
    "\n",
    "ax.scatter(\n",
    "    triangle_xyz[:, 0],\n",
    "    triangle_xyz[:, 1],\n",
    "    triangle_xyz[:, 2],\n",
    "    c=triangle_rgb,\n",
    ")"
   ]
  },
  {
   "cell_type": "markdown",
   "id": "15846c8c",
   "metadata": {},
   "source": [
    "### d)"
   ]
  },
  {
   "cell_type": "code",
   "execution_count": null,
   "id": "b1e2fa2d",
   "metadata": {},
   "outputs": [],
   "source": [
    "mds = sklearn.manifold.MDS()"
   ]
  },
  {
   "cell_type": "code",
   "execution_count": null,
   "id": "de1c53a3",
   "metadata": {},
   "outputs": [],
   "source": [
    "triangle_rgb_mds = mds.fit_transform(triangle_rgb)\n",
    "triangle_lab_mds = mds.fit_transform(triangle_lab)\n",
    "triangle_xyz_mds = mds.fit_transform(triangle_xyz)"
   ]
  },
  {
   "cell_type": "code",
   "execution_count": null,
   "id": "f010acaf",
   "metadata": {},
   "outputs": [],
   "source": [
    "fig, axs = plt.subplots(1, 3, subplot_kw={\"aspect\": \"equal\"})\n",
    "ax_rgb, ax_lab, ax_xyz = axs\n",
    "\n",
    "ax_rgb.set_title(\"rgb\")\n",
    "ax_lab.set_title(\"lab,\")\n",
    "ax_xyz.set_title(\"xyz\")"
   ]
  },
  {
   "cell_type": "code",
   "execution_count": null,
   "id": "b239817f",
   "metadata": {},
   "outputs": [],
   "source": [
    "ax_rgb.scatter(\n",
    "    triangle_rgb_mds[:, 0],\n",
    "    triangle_rgb_mds[:, 1],\n",
    "    c=triangle_rgb,\n",
    ")\n",
    "\n",
    "ax_lab.scatter(\n",
    "    triangle_lab_mds[:, 0],\n",
    "    triangle_lab_mds[:, 1],\n",
    "    c=triangle_rgb,\n",
    ")\n",
    "\n",
    "ax_xyz.scatter(\n",
    "    triangle_xyz_mds[:, 0],\n",
    "    triangle_xyz_mds[:, 1],\n",
    "    c=triangle_rgb,\n",
    ")"
   ]
  },
  {
   "cell_type": "code",
   "execution_count": null,
   "id": "6663e14b",
   "metadata": {},
   "outputs": [],
   "source": [
    "fig"
   ]
  },
  {
   "cell_type": "markdown",
   "id": "139fc1f7",
   "metadata": {},
   "source": [
    "The results look like a projection to a hyperplane in the 3d space."
   ]
  },
  {
   "cell_type": "markdown",
   "id": "2463ce74",
   "metadata": {},
   "source": [
    "# Exercise 3"
   ]
  },
  {
   "cell_type": "markdown",
   "id": "8826920d",
   "metadata": {},
   "source": [
    "### a)\n"
   ]
  },
  {
   "cell_type": "markdown",
   "id": "d636985a",
   "metadata": {},
   "source": [
    "The Heilholtz-Kohlrausch effect describes an inconsistency of the human visual perception regarding luminance.\n",
    "\n",
    "Lets consider three spectral distributions: a, b, c.\n",
    "Let a be white.\n",
    "Let b and c be two saturated colors.\n",
    "\n",
    "Human observers are asked to vary the brightness of b and c to match the one of a.\n",
    "When we now add b and c and compare it to $2a$ the luminance is mathematically the same.\n",
    "\n",
    "But the human visual system will identify $a+b$ as dimmer than $2a$."
   ]
  },
  {
   "cell_type": "markdown",
   "id": "96b60eec",
   "metadata": {},
   "source": [
    "### b)"
   ]
  },
  {
   "cell_type": "markdown",
   "id": "c1092ee9",
   "metadata": {},
   "source": [
    "They use faces since the humans brain is very good in distinguishing human faces.\n",
    "Also they cite a paper that says that we percive incorrect luminance stronger in images of faces."
   ]
  },
  {
   "cell_type": "markdown",
   "id": "778f3043",
   "metadata": {},
   "source": [
    "### c)"
   ]
  },
  {
   "cell_type": "markdown",
   "id": "80a86f07",
   "metadata": {},
   "source": [
    "They compare to \"minimally distinct border\".\n",
    "This method works by placing two color fields next to each other and adjusting one field and adjusting one filed to find out when their difference is minimal according to the observer."
   ]
  },
  {
   "cell_type": "markdown",
   "id": "86031cc9",
   "metadata": {},
   "source": [
    "### d)"
   ]
  },
  {
   "cell_type": "markdown",
   "id": "3a4fdb71",
   "metadata": {},
   "source": [
    "It is more percise while it is equally fast."
   ]
  },
  {
   "cell_type": "markdown",
   "id": "ce6bf5d0",
   "metadata": {},
   "source": [
    "### e)"
   ]
  },
  {
   "cell_type": "markdown",
   "id": "37485541",
   "metadata": {},
   "source": [
    "They need it for interpolation between two equal-luminance rgb colors."
   ]
  },
  {
   "cell_type": "markdown",
   "id": "f68bbeb8",
   "metadata": {},
   "source": [
    "# Exercise 4"
   ]
  },
  {
   "cell_type": "markdown",
   "id": "a6f6351c",
   "metadata": {},
   "source": [
    "### a)"
   ]
  },
  {
   "cell_type": "markdown",
   "id": "53b769c0",
   "metadata": {},
   "source": [
    "While the code is really bad and unreadable the idea is simple.\n",
    "\n",
    "We chose a uniform color space.\n",
    "To be percise we use CIE LCh.\n",
    "Since it is uniform we can uniformly divide our classes (manufactures) in the hue.\n",
    "To communicate the amount of sales we use luminance and saturation.\n",
    "\n",
    "So in theory the difference between two adjacent manufactures should be the same for all adjacent pairs."
   ]
  },
  {
   "cell_type": "code",
   "execution_count": null,
   "id": "f2d5b36e",
   "metadata": {},
   "outputs": [],
   "source": [
    "n_manufactures = 6\n",
    "hues_m = np.arange(0, 1, 1 / n_manufactures)"
   ]
  },
  {
   "cell_type": "code",
   "execution_count": null,
   "id": "7fb415bb",
   "metadata": {},
   "outputs": [],
   "source": [
    "sales = np.arange(0, 100_000, 100)"
   ]
  },
  {
   "cell_type": "code",
   "execution_count": null,
   "id": "4b6782ae",
   "metadata": {},
   "outputs": [],
   "source": [
    "max_sales = max(sales)\n",
    "min_sales = min(sales)\n",
    "sales_range = max_sales - min_sales"
   ]
  },
  {
   "cell_type": "code",
   "execution_count": null,
   "id": "ac00cea5",
   "metadata": {},
   "outputs": [],
   "source": [
    "saturations = sales / sales_range"
   ]
  },
  {
   "cell_type": "code",
   "execution_count": null,
   "id": "9805adbc",
   "metadata": {},
   "outputs": [],
   "source": [
    "values = np.ones(saturations.shape)"
   ]
  },
  {
   "cell_type": "code",
   "execution_count": null,
   "id": "bfe10774",
   "metadata": {},
   "outputs": [],
   "source": [
    "fig = plt.figure()\n",
    "ax = fig.add_subplot()"
   ]
  },
  {
   "cell_type": "code",
   "execution_count": null,
   "id": "428fdcea",
   "metadata": {},
   "outputs": [],
   "source": [
    "for hue in hues_m:\n",
    "    hues = np.ones(saturations.shape) * hue\n",
    "    min_sat = 30\n",
    "    min_luminance = 55\n",
    "    max_luminance = 80\n",
    "    lch = np.array(\n",
    "        [\n",
    "            saturations * (max_luminance - min_luminance) + min_luminance,\n",
    "            saturations * (100 - min_sat) + min_sat,\n",
    "            np.ones(saturations.shape) * hue * m.pi * 2,\n",
    "        ]\n",
    "    ).T\n",
    "\n",
    "    lab = skimage.color.lch2lab(lch)\n",
    "    rgb = skimage.color.lab2rgb(lab)\n",
    "\n",
    "    ax.scatter(\n",
    "        sales,\n",
    "        np.ones(sales.shape) * hue,\n",
    "        c=rgb,\n",
    "    )"
   ]
  },
  {
   "cell_type": "code",
   "execution_count": null,
   "id": "b434dd3a",
   "metadata": {},
   "outputs": [],
   "source": [
    "fig"
   ]
  },
  {
   "cell_type": "markdown",
   "id": "341a2cd2",
   "metadata": {},
   "source": [
    "### b)"
   ]
  },
  {
   "cell_type": "markdown",
   "id": "b86fed0c",
   "metadata": {},
   "source": [
    "We know that $V=M$.\n",
    "\n",
    "Also we know $S = 1 - \\frac{m}{M} = \\frac{C}{V}$.\n",
    "\n",
    "We rearange to get $m = (1 - S) M$\n",
    "\n",
    "So now we know $m,M$.\n",
    "\n",
    "From the image on slide 66 and $H \\in (60°,180°)$ we know that $argmax (R,G,B) = G$.\n",
    "\n",
    "Since we already know $M$ we know that $G=M$.\n",
    "Now we have to find out R and G.\n",
    "\n",
    "Also we know that $H = \\frac{B -R}{C} + 2$.\n",
    "\n",
    "We rearange to get $(B-R) = (H -2) C$\n",
    "\n",
    "Case 1: $(H - 2) C >= 0$\n",
    "Now if $(H - 2) C >= 0$ it must be that $B>=R$.\n",
    "\n",
    "$B = m$.\n",
    "\n",
    "We now substitute B in the formula to get $R = m -(H -2)C$\n",
    "\n",
    "\n",
    "Case 1: $(H - 2) C < 0$\n",
    "Now if $(H - 2) C < 0$ it must be that $B<R$.\n",
    "\n",
    "$R = m$.\n",
    "\n",
    "We now substitute R in the formula to get $B=(H-2)C +m$"
   ]
  },
  {
   "cell_type": "markdown",
   "id": "373cef08",
   "metadata": {},
   "source": [
    "### c)"
   ]
  },
  {
   "cell_type": "markdown",
   "id": "767b9f12",
   "metadata": {},
   "source": [
    "HSV over CIEluv:\n",
    "\n",
    "We would prefer hsv if we want to make the image look more saturated.\n",
    "Also making an image darker is very easy by decreasing the value.\n",
    "In general HSV is a more intuitive than CIELuv so it is useful for color analysis or manipulation."
   ]
  },
  {
   "cell_type": "markdown",
   "id": "71623cfb",
   "metadata": {},
   "source": [
    "CIEluv over HSV:\n",
    "\n",
    "CIELuv is an uniform colorspace.\n",
    "Therefore we would prefer it for displaying different classes.\n",
    "The lightness should be the same for all classes.\n",
    "If we evenly space the values for a and b all colors look equaly different."
   ]
  }
 ],
 "metadata": {
  "kernelspec": {
   "display_name": "marten-xps-archlinux",
   "language": "python",
   "name": "marten-xps-archlinux"
  },
  "language_info": {
   "codemirror_mode": {
    "name": "ipython",
    "version": 3
   },
   "file_extension": ".py",
   "mimetype": "text/x-python",
   "name": "python",
   "nbconvert_exporter": "python",
   "pygments_lexer": "ipython3",
   "version": "3.10.10"
  }
 },
 "nbformat": 4,
 "nbformat_minor": 5
}

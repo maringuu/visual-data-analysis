{
 "cells": [
  {
   "cell_type": "markdown",
   "id": "92a0836e",
   "metadata": {},
   "source": [
    "# Sheet 04"
   ]
  },
  {
   "cell_type": "markdown",
   "id": "f462c2fc",
   "metadata": {},
   "source": [
    "## Preamble"
   ]
  },
  {
   "cell_type": "markdown",
   "id": "3f7c6c28",
   "metadata": {},
   "source": [
    "Autors: Marten Ringwelski, Nico Ostermann, Simon Liessem"
   ]
  },
  {
   "cell_type": "markdown",
   "id": "a1bbbd45",
   "metadata": {},
   "source": [
    "Note that this notebook MUST be executed in order to get everything to work.\n",
    "The tasks can't be run individually. "
   ]
  },
  {
   "cell_type": "markdown",
   "id": "1ab973fc",
   "metadata": {},
   "source": [
    "Also eCampus does not allow for uploading nested directory structures which makes it hard to properly organize the files. The files are expected to be in the `data` directory which itself is placed next to this notebook.\n",
    "\n",
    "If you extract the zip file we handed in everything should work just fine."
   ]
  },
  {
   "cell_type": "markdown",
   "id": "5b476f10",
   "metadata": {},
   "source": [
    "Autoformatting if `jupyter-black` is installed."
   ]
  },
  {
   "cell_type": "code",
   "execution_count": null,
   "id": "c6501019",
   "metadata": {},
   "outputs": [],
   "source": [
    "try:\n",
    "    import black\n",
    "    import jupyter_black\n",
    "\n",
    "    jupyter_black.load(\n",
    "        lab=False,\n",
    "        line_length=79,\n",
    "        verbosity=\"DEBUG\",\n",
    "        target_version=black.TargetVersion.PY310,\n",
    "    )\n",
    "except ImportError:\n",
    "    pass"
   ]
  },
  {
   "cell_type": "markdown",
   "id": "3dc11336",
   "metadata": {},
   "source": [
    "Import all we weed and more."
   ]
  },
  {
   "cell_type": "markdown",
   "id": "c7116a0c",
   "metadata": {},
   "source": [
    "Set seaborn default theme"
   ]
  },
  {
   "cell_type": "code",
   "execution_count": null,
   "id": "05877eaf",
   "metadata": {},
   "outputs": [],
   "source": [
    "import seaborn as sns\n",
    "import pandas as pd\n",
    "import matplotlib as mpl\n",
    "import matplotlib.pyplot as plt\n",
    "import numpy as np\n",
    "import sklearn as sk\n",
    "from sklearn.feature_selection import f_classif, SelectKBest\n",
    "import math as m\n",
    "import plotly.express as px\n",
    "import sklearn.manifold\n",
    "import scipy as sp\n",
    "import scipy.sparse"
   ]
  },
  {
   "cell_type": "markdown",
   "id": "049365eb",
   "metadata": {},
   "source": [
    "Set seaborn default theme"
   ]
  },
  {
   "cell_type": "code",
   "execution_count": null,
   "id": "6962148e",
   "metadata": {},
   "outputs": [],
   "source": [
    "sns.set_theme()"
   ]
  },
  {
   "cell_type": "markdown",
   "id": "f702c2e1",
   "metadata": {},
   "source": [
    "If needed tweak parameters of matplotlib.\n",
    "Here we increase the size and dpi to bet a bigger but still high-res image."
   ]
  },
  {
   "cell_type": "code",
   "execution_count": null,
   "id": "e64dba3e",
   "metadata": {},
   "outputs": [],
   "source": [
    "mpl.rcParams[\"figure.dpi\"] = 200\n",
    "mpl.rcParams[\"figure.figsize\"] = (20, 15)\n",
    "%matplotlib inline"
   ]
  },
  {
   "cell_type": "markdown",
   "id": "5a21f26a",
   "metadata": {},
   "source": [
    "Disable future warnings as we get a lot of them and don't really care for this sheet."
   ]
  },
  {
   "cell_type": "code",
   "execution_count": null,
   "id": "5009ee59",
   "metadata": {},
   "outputs": [],
   "source": [
    "import warnings\n",
    "\n",
    "warnings.simplefilter(action=\"ignore\", category=FutureWarning)"
   ]
  },
  {
   "cell_type": "markdown",
   "id": "2fc9c0f0",
   "metadata": {},
   "source": [
    "## Exercise 1"
   ]
  },
  {
   "cell_type": "markdown",
   "id": "13e9770e",
   "metadata": {},
   "source": [
    "### a)"
   ]
  },
  {
   "cell_type": "markdown",
   "id": "3e6f5e7a",
   "metadata": {},
   "source": [
    "Read the dataframe and replace missing values by the respective mean of the column."
   ]
  },
  {
   "cell_type": "code",
   "execution_count": null,
   "id": "aff47bc4",
   "metadata": {},
   "outputs": [],
   "source": [
    "df = pd.read_excel(\"data/breast-cancer-wisconsin.xlsx\")\n",
    "df = df.fillna(df.mean())\n",
    "\n",
    "df[\"class\"] = df[\"class\"].map({2: \"benign\", 4: \"malignant\"})"
   ]
  },
  {
   "cell_type": "markdown",
   "id": "a4552b32",
   "metadata": {},
   "source": [
    "Now define the DataFrame for t-SNE and create a new one with the result."
   ]
  },
  {
   "cell_type": "code",
   "execution_count": null,
   "id": "d8e5ed53",
   "metadata": {},
   "outputs": [],
   "source": [
    "data_columns = df.columns.difference([\"class\", \"code\"])"
   ]
  },
  {
   "cell_type": "code",
   "execution_count": null,
   "id": "7b7d21bd",
   "metadata": {},
   "outputs": [],
   "source": [
    "df_wo_meta = df[data_columns]"
   ]
  },
  {
   "cell_type": "markdown",
   "id": "d8d996be",
   "metadata": {},
   "source": [
    "Do t-SNE with different perplexities as the task asked us to.\n"
   ]
  },
  {
   "cell_type": "code",
   "execution_count": null,
   "id": "49d0cfd4",
   "metadata": {},
   "outputs": [],
   "source": [
    "perplexities = [5, 10, 20, 30, 40, 50]\n",
    "fig, axs = plt.subplots(\n",
    "    nrows=2,\n",
    "    ncols=m.ceil(len(perplexities) / 2),\n",
    ")\n",
    "for perplexity, ax in zip(perplexities, axs.flatten()):\n",
    "    tsne = sk.manifold.TSNE(\n",
    "        n_components=2,\n",
    "        perplexity=perplexity,\n",
    "        init=\"random\",\n",
    "        learning_rate=\"auto\",\n",
    "    )\n",
    "\n",
    "    df_tsne = pd.DataFrame(\n",
    "        tsne.fit_transform(df_wo_meta),\n",
    "        columns=[\"x-tsne\", \"y-tsne\"],\n",
    "        index=df.index,\n",
    "    )\n",
    "    df_tsne[df.columns] = df\n",
    "\n",
    "    ax.set_title(f\"Perplexity: {perplexity}\")\n",
    "    ax.set_aspect(\"equal\")\n",
    "    sns.scatterplot(\n",
    "        data=df_tsne,\n",
    "        x=\"x-tsne\",\n",
    "        y=\"y-tsne\",\n",
    "        hue=\"class\",\n",
    "        ax=ax,\n",
    "    )"
   ]
  },
  {
   "cell_type": "markdown",
   "id": "ed47ce02",
   "metadata": {},
   "source": [
    "Copy paste from above but init=\"pca\""
   ]
  },
  {
   "cell_type": "code",
   "execution_count": null,
   "id": "570abb3d",
   "metadata": {},
   "outputs": [],
   "source": [
    "perplexities = [5, 10, 20, 30, 40, 50]\n",
    "fig, axs = plt.subplots(\n",
    "    nrows=2,\n",
    "    ncols=m.ceil(len(perplexities) / 2),\n",
    ")\n",
    "for perplexity, ax in zip(perplexities, axs.flatten()):\n",
    "    tsne = sk.manifold.TSNE(\n",
    "        n_components=2,\n",
    "        perplexity=perplexity,\n",
    "        init=\"pca\",\n",
    "        learning_rate=\"auto\",\n",
    "    )\n",
    "\n",
    "    df_tsne = pd.DataFrame(\n",
    "        tsne.fit_transform(df_wo_meta),\n",
    "        columns=[\"x-tsne\", \"y-tsne\"],\n",
    "        index=df.index,\n",
    "    )\n",
    "    df_tsne[df.columns] = df\n",
    "\n",
    "    ax.set_title(f\"Perplexity: {perplexity}\")\n",
    "    ax.set_aspect(\"equal\")\n",
    "    sns.scatterplot(\n",
    "        data=df_tsne,\n",
    "        x=\"x-tsne\",\n",
    "        y=\"y-tsne\",\n",
    "        hue=\"class\",\n",
    "        ax=ax,\n",
    "    )"
   ]
  },
  {
   "cell_type": "markdown",
   "id": "9cafd604",
   "metadata": {},
   "source": [
    "TODO what do we no?"
   ]
  },
  {
   "cell_type": "markdown",
   "id": "22dcce49",
   "metadata": {},
   "source": [
    "### c)"
   ]
  },
  {
   "cell_type": "markdown",
   "id": "5711341f",
   "metadata": {},
   "source": [
    "Read data and use mean for missing data."
   ]
  },
  {
   "cell_type": "code",
   "execution_count": null,
   "id": "1897ffd6",
   "metadata": {},
   "outputs": [],
   "source": [
    "df = pd.read_excel(\n",
    "    \"data/Data_Cortex_Nuclear.xls\",\n",
    "    index_col=\"MouseID\",\n",
    ")\n",
    "df = df.fillna(df.mean())"
   ]
  },
  {
   "cell_type": "code",
   "execution_count": null,
   "id": "4bf7de38",
   "metadata": {},
   "outputs": [],
   "source": [
    "meta_columns = [\"Genotype\", \"Treatment\", \"Behavior\", \"class\"]\n",
    "df_wo_meta = df[df.columns.difference(meta_columns)]\n",
    "\n",
    "df_scs = df_wo_meta[\n",
    "    np.logical_or(\n",
    "        df[\"class\"] == \"c-SC-s\",\n",
    "        df[\"class\"] == \"t-SC-s\",\n",
    "    )\n",
    "].copy()"
   ]
  },
  {
   "cell_type": "markdown",
   "id": "6a5ad835",
   "metadata": {},
   "source": [
    "Now actuall do PCA and create a DataFrame with the result.\n",
    "Also we use equal axis scale for the plot which makes sense since we care about the results from PCA."
   ]
  },
  {
   "cell_type": "code",
   "execution_count": null,
   "id": "8af24798",
   "metadata": {},
   "outputs": [],
   "source": [
    "pca = sk.decomposition.PCA(\n",
    "    n_components=2,\n",
    ")\n",
    "# XXX There must be a better way to do this\n",
    "df_pca = pd.DataFrame(\n",
    "    pca.fit_transform(df_scs),\n",
    "    columns=[\"x-pca\", \"y-pca\"],\n",
    "    index=df_scs.index,\n",
    ")\n",
    "df_pca[df.columns] = df"
   ]
  },
  {
   "cell_type": "code",
   "execution_count": null,
   "id": "25c35a3a",
   "metadata": {},
   "outputs": [],
   "source": [
    "plt.gca().set_aspect(\"equal\")\n",
    "\n",
    "sns.scatterplot(\n",
    "    df_pca,\n",
    "    x=\"x-pca\",\n",
    "    y=\"y-pca\",\n",
    "    hue=\"class\",\n",
    ")"
   ]
  },
  {
   "cell_type": "markdown",
   "id": "915137da",
   "metadata": {},
   "source": [
    "TODO\n",
    "- isomap\n",
    "- tsne with different settings"
   ]
  },
  {
   "cell_type": "markdown",
   "id": "ee6454f0",
   "metadata": {},
   "source": [
    "Now we do the same thing but for isomap.\n",
    "As we see by the warnings using 2 or 5 is not good as the resulting graph has more than one connecting component."
   ]
  },
  {
   "cell_type": "code",
   "execution_count": null,
   "id": "81613321",
   "metadata": {},
   "outputs": [],
   "source": [
    "# We don't care that the calculation is expensive\n",
    "warnings.simplefilter(\n",
    "    action=\"ignore\",\n",
    "    category=sp.sparse.SparseEfficiencyWarning,\n",
    ")\n",
    "n_neighbors_array = [2, 5, 7, 13, 17, 23, 29]\n",
    "\n",
    "fig, axs = plt.subplots(\n",
    "    nrows=2,\n",
    "    ncols=m.ceil(len(n_neighbors_array) / 2),\n",
    ")\n",
    "\n",
    "for n_neighbors, ax in zip(n_neighbors_array, axs.flatten()):\n",
    "    isomap = sk.manifold.Isomap(\n",
    "        n_neighbors=n_neighbors,\n",
    "    )\n",
    "\n",
    "    df_isomap = pd.DataFrame(\n",
    "        isomap.fit_transform(df_scs),\n",
    "        columns=[\"x-isomap\", \"y-isomap\"],\n",
    "        index=df_scs.index,\n",
    "    )\n",
    "\n",
    "    df_isomap[df.columns] = df\n",
    "\n",
    "    plt.gca().set_aspect(\"equal\")\n",
    "\n",
    "    sns.scatterplot(\n",
    "        df_isomap,\n",
    "        x=\"x-isomap\",\n",
    "        y=\"y-isomap\",\n",
    "        hue=\"class\",\n",
    "        ax=ax,\n",
    "    )"
   ]
  },
  {
   "cell_type": "code",
   "execution_count": null,
   "id": "8b68f826",
   "metadata": {},
   "outputs": [],
   "source": []
  }
 ],
 "metadata": {
  "kernelspec": {
   "display_name": "Python 3 (ipykernel)",
   "language": "python",
   "name": "python3"
  },
  "language_info": {
   "codemirror_mode": {
    "name": "ipython",
    "version": 3
   },
   "file_extension": ".py",
   "mimetype": "text/x-python",
   "name": "python",
   "nbconvert_exporter": "python",
   "pygments_lexer": "ipython3",
   "version": "3.10.11"
  }
 },
 "nbformat": 4,
 "nbformat_minor": 5
}

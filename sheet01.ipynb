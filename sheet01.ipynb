{
 "cells": [
  {
   "cell_type": "markdown",
   "id": "92a0836e",
   "metadata": {},
   "source": [
    "# Exercise 1"
   ]
  },
  {
   "cell_type": "markdown",
   "id": "92fa54f6",
   "metadata": {},
   "source": [
    "Autors: Marten Ringwelski, Nico Ostermann, Simon Liessem"
   ]
  },
  {
   "cell_type": "markdown",
   "id": "26f7d20b",
   "metadata": {},
   "source": [
    "Note that this notebook MUST be executed in order to get everything to work.\n",
    "The tasks can't be run individually. "
   ]
  },
  {
   "cell_type": "markdown",
   "id": "c8c7bc8c",
   "metadata": {},
   "source": [
    "Also eCampus does not allow for uploading nested directory structures which makes it hard to properly organize the files. The files are expected to be in the `data` directory which itself is placed next to this notebook.\n",
    "\n",
    "If you extract the zip file we handed in everything should work just fine."
   ]
  },
  {
   "cell_type": "markdown",
   "id": "d8b9ac1f",
   "metadata": {},
   "source": [
    "## a)"
   ]
  },
  {
   "cell_type": "markdown",
   "id": "3dc11336",
   "metadata": {},
   "source": [
    "Import all we weed and more."
   ]
  },
  {
   "cell_type": "code",
   "execution_count": null,
   "id": "05877eaf",
   "metadata": {},
   "outputs": [],
   "source": [
    "import seaborn as sns\n",
    "import pandas as pd\n",
    "import matplotlib as mpl\n",
    "import matplotlib.pyplot as plt\n",
    "import numpy as np"
   ]
  },
  {
   "cell_type": "markdown",
   "id": "c7116a0c",
   "metadata": {},
   "source": [
    "Set seaborn default theme"
   ]
  },
  {
   "cell_type": "code",
   "execution_count": null,
   "id": "6962148e",
   "metadata": {},
   "outputs": [],
   "source": [
    "sns.set_theme()"
   ]
  },
  {
   "cell_type": "markdown",
   "id": "f702c2e1",
   "metadata": {},
   "source": [
    "If needed tweak parameters of matplotlib.\n",
    "Here we increase the size and dpi to bet a bigger but still high-res image."
   ]
  },
  {
   "cell_type": "code",
   "execution_count": null,
   "id": "e64dba3e",
   "metadata": {},
   "outputs": [],
   "source": [
    "mpl.rcParams['figure.dpi'] = 200\n",
    "mpl.rcParams[\"figure.figsize\"] = (20,15)\n",
    "%matplotlib inline"
   ]
  },
  {
   "cell_type": "code",
   "execution_count": null,
   "id": "929e7d34",
   "metadata": {},
   "outputs": [],
   "source": [
    "df = pd.read_csv(\"data/solar_panel.csv\")\n",
    "# I don't like uppercase\n",
    "df.rename(\n",
    "    mapper=str.lower,\n",
    "    axis=1,\n",
    "    inplace=True,\n",
    ")"
   ]
  },
  {
   "cell_type": "markdown",
   "id": "aed2e3a2",
   "metadata": {},
   "source": [
    "Using proper datetime makes the visualisation nicer."
   ]
  },
  {
   "cell_type": "code",
   "execution_count": null,
   "id": "1e3af34c",
   "metadata": {},
   "outputs": [],
   "source": [
    "df[\"datetime\"] = pd.to_datetime(\n",
    "    df[[\"year\", \"month\", \"day\"]],\n",
    ")"
   ]
  },
  {
   "cell_type": "code",
   "execution_count": null,
   "id": "6d1377fe",
   "metadata": {},
   "outputs": [],
   "source": [
    "_ = df.drop(columns=\"datetime\").hist()"
   ]
  },
  {
   "cell_type": "markdown",
   "id": "5d67a10a",
   "metadata": {},
   "source": [
    "## b)"
   ]
  },
  {
   "cell_type": "code",
   "execution_count": null,
   "id": "2d44ee69",
   "metadata": {},
   "outputs": [],
   "source": [
    "groupby_df = df.groupby(\n",
    "    by=\"datetime\",\n",
    ")"
   ]
  },
  {
   "cell_type": "code",
   "execution_count": null,
   "id": "57bcf868",
   "metadata": {},
   "outputs": [],
   "source": [
    "power_generated_ser = groupby_df[\"power generated\"].sum()\n",
    "_ = power_generated_ser.plot(\n",
    "    kind=\"line\",\n",
    "    ylabel=power_generated_ser.name,\n",
    ")"
   ]
  },
  {
   "cell_type": "markdown",
   "id": "83925441",
   "metadata": {},
   "source": [
    "We see in the graph that the maximum power generated is somewhen in May 2009.\n",
    "This is confirmed by the data."
   ]
  },
  {
   "cell_type": "code",
   "execution_count": null,
   "id": "47b724bf",
   "metadata": {},
   "outputs": [],
   "source": [
    "power_generated_ser.idxmax()"
   ]
  },
  {
   "cell_type": "markdown",
   "id": "648a2870",
   "metadata": {},
   "source": [
    "## c)"
   ]
  },
  {
   "cell_type": "markdown",
   "id": "8587b6f8",
   "metadata": {},
   "source": [
    "First aggregate our data."
   ]
  },
  {
   "cell_type": "code",
   "execution_count": null,
   "id": "554dc771",
   "metadata": {},
   "outputs": [],
   "source": [
    "summed_df = groupby_df[[\"power generated\", \"sky cover\"]].aggregate(\n",
    "    func={\n",
    "        \"power generated\": np.sum,\n",
    "        \"sky cover\": np.mean,\n",
    "    },\n",
    ")"
   ]
  },
  {
   "cell_type": "markdown",
   "id": "18666b6c",
   "metadata": {},
   "source": [
    "We split the data (exactly) in half by using the median."
   ]
  },
  {
   "cell_type": "code",
   "execution_count": null,
   "id": "fd7a9b58",
   "metadata": {},
   "outputs": [],
   "source": [
    "min_sky_cover = summed_df[\"sky cover\"].min()\n",
    "max_sky_cover = summed_df[\"sky cover\"].max()\n",
    "median_sky_cover = summed_df[\"sky cover\"].median()"
   ]
  },
  {
   "cell_type": "code",
   "execution_count": null,
   "id": "fff962b7",
   "metadata": {},
   "outputs": [],
   "source": [
    "summed_df[\"cluster\"] = pd.cut(\n",
    "    summed_df[\"sky cover\"],\n",
    "    bins=[min_sky_cover, median_sky_cover, max_sky_cover],\n",
    "    labels=[\"low\", \"high\"],\n",
    "    include_lowest=True,\n",
    "    right=True,\n",
    ")"
   ]
  },
  {
   "cell_type": "markdown",
   "id": "d8a2b62d",
   "metadata": {},
   "source": [
    "Now show a scatterplot with the clusters displayed in different color."
   ]
  },
  {
   "cell_type": "code",
   "execution_count": null,
   "id": "d1c5eecf",
   "metadata": {},
   "outputs": [],
   "source": [
    "fig = plt.figure()\n",
    "ax = fig.subplots()\n",
    "for cluster in [\"low\", \"high\"]:\n",
    "    cluster_df = summed_df[summed_df[\"cluster\"] == cluster]\n",
    "\n",
    "    path = ax.scatter(\n",
    "        x=cluster_df.index,\n",
    "        y=cluster_df[\"power generated\"],\n",
    "    )\n",
    "    path.set_label(f\"{cluster} sky cover\")\n",
    "\n",
    "ax.set_ylabel(\"Power Generated\")\n",
    "_ = ax.legend()"
   ]
  },
  {
   "cell_type": "markdown",
   "id": "ef74356b",
   "metadata": {},
   "source": [
    "Now do another scatterplot."
   ]
  },
  {
   "cell_type": "code",
   "execution_count": null,
   "id": "b2ff6f5a",
   "metadata": {},
   "outputs": [],
   "source": [
    "fig = plt.figure()\n",
    "ax = fig.subplots()\n",
    "ax.set_ylabel(\"Power Generated\")\n",
    "coll = ax.scatter(\n",
    "    data=summed_df,\n",
    "    x=\"cluster\",\n",
    "    y=\"power generated\",\n",
    ")\n",
    "\n",
    "# Add some jitter\n",
    "jitter = 0.1\n",
    "\n",
    "offsets = coll.get_offsets()\n",
    "offsets[:, 0] += np.random.uniform(-jitter, jitter, offsets.shape[0])\n",
    "coll.set_offsets(offsets)\n",
    "xmin, xmax = ax.get_xlim()\n",
    "_ = ax.set_xlim(xmin-jitter, xmax+jitter)\n"
   ]
  },
  {
   "cell_type": "markdown",
   "id": "6bfe77e7",
   "metadata": {},
   "source": [
    "We can also show a split violin plot to see the differences in distribution."
   ]
  },
  {
   "cell_type": "code",
   "execution_count": null,
   "id": "0847c5b9",
   "metadata": {},
   "outputs": [],
   "source": [
    "fig = plt.figure()\n",
    "ax = fig.subplots()\n",
    "\n",
    "# Work around seaborn limitation\n",
    "plot_df = summed_df\n",
    "plot_df[\"seaborn_hack\"] = True\n",
    "ax.get_xaxis().set_visible(False)\n",
    "\n",
    "_ = sns.violinplot(\n",
    "    data=plot_df,\n",
    "    x=\"seaborn_hack\",\n",
    "    y=\"power generated\",\n",
    "    split=True,\n",
    "    hue=\"cluster\",\n",
    "    ax=ax,\n",
    ")"
   ]
  },
  {
   "cell_type": "code",
   "execution_count": null,
   "id": "cf13ad5a",
   "metadata": {},
   "outputs": [],
   "source": []
  }
 ],
 "metadata": {
  "kernelspec": {
   "display_name": "Python 3 (ipykernel)",
   "language": "python",
   "name": "python3"
  },
  "language_info": {
   "codemirror_mode": {
    "name": "ipython",
    "version": 3
   },
   "file_extension": ".py",
   "mimetype": "text/x-python",
   "name": "python",
   "nbconvert_exporter": "python",
   "pygments_lexer": "ipython3",
   "version": "3.10.11"
  }
 },
 "nbformat": 4,
 "nbformat_minor": 5
}
